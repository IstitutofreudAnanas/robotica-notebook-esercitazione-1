{
 "cells": [
  {
   "cell_type": "markdown",
   "id": "29a79726",
   "metadata": {},
   "source": [
    "# stampa"
   ]
  },
  {
   "cell_type": "code",
   "execution_count": 1,
   "id": "3fe1b21d",
   "metadata": {},
   "outputs": [
    {
     "name": "stdout",
     "output_type": "stream",
     "text": [
      "ciao\n"
     ]
    }
   ],
   "source": [
    "#stampa ciao\n",
    "print (\"ciao\")"
   ]
  },
  {
   "cell_type": "code",
   "execution_count": 2,
   "id": "ba1ca64c",
   "metadata": {},
   "outputs": [
    {
     "name": "stdout",
     "output_type": "stream",
     "text": [
      "ciao, mondo! \n"
     ]
    }
   ],
   "source": [
    " print (\"ciao, mondo! \")"
   ]
  },
  {
   "cell_type": "markdown",
   "id": "a4f13fa6",
   "metadata": {},
   "source": [
    "# variabili e intput utente "
   ]
  },
  {
   "cell_type": "code",
   "execution_count": 3,
   "id": "d1c7e63f",
   "metadata": {},
   "outputs": [
    {
     "name": "stdout",
     "output_type": "stream",
     "text": [
      "inserisci il tuo nome: alberto\n",
      "ciao alberto !\n"
     ]
    }
   ],
   "source": [
    "#creo una variabile di nome \"nome\" e la assegno come input \n",
    "nome = input (\"inserisci il tuo nome: \")\n",
    "#stampa ciao e il valore inserito dentro input \n",
    "print(\"ciao\" , nome, \"!\") "
   ]
  },
  {
   "cell_type": "markdown",
   "id": "4ce5d547",
   "metadata": {},
   "source": [
    "# aggiungiamo un pò di ripetizioni "
   ]
  },
  {
   "cell_type": "code",
   "execution_count": 4,
   "id": "9168630d",
   "metadata": {},
   "outputs": [
    {
     "name": "stdout",
     "output_type": "stream",
     "text": [
      "inserisci il tuo nome: Alberto\n",
      "ciao Alberto !\n",
      "ciao Alberto !\n",
      "ciao Alberto !\n",
      "ciao Alberto !\n",
      "ciao Alberto !\n"
     ]
    }
   ],
   "source": [
    "nome= input(\"inserisci il tuo nome: \")\n",
    "#per tutti i \"i\" che vanno da 5 a 5 stampa \"ciao {nome}!\" ------> lo stampa 5 volte \n",
    "for i in range(5): \n",
    "    print(\"ciao\", nome,\"!\")"
   ]
  },
  {
   "cell_type": "markdown",
   "id": "d001ce63",
   "metadata": {},
   "source": [
    "# calcolatrice"
   ]
  },
  {
   "cell_type": "code",
   "execution_count": 4,
   "id": "5e6cbcc4",
   "metadata": {},
   "outputs": [
    {
     "name": "stdout",
     "output_type": "stream",
     "text": [
      "inserisci un numero: 1 \n",
      "inserisci un numero: 2\n",
      "la somma è 3\n"
     ]
    }
   ],
   "source": [
    "#creo una variabile di nome \"numero1\" e la assegno come input e come intero (int)\n",
    "numero1 = int(input (\"inserisci un numero: \"))\n",
    "#creo una variabile di nome \"numero2\" e la assegno come input e come intero (int)\n",
    "numero2 = int(input (\"inserisci un numero: \"))\n",
    "#creo una variabile chiamata \"somma\" che la assegno come la somma fra numero 1 + numero 2 \n",
    "somma = numero1+numero2\n",
    "#stampo \"la somma è\" e richiamo la variabile \"somma\"\n",
    "print (\"la somma è\", somma )"
   ]
  },
  {
   "cell_type": "markdown",
   "id": "748b57e4",
   "metadata": {},
   "source": [
    "# sottrazione\n"
   ]
  },
  {
   "cell_type": "code",
   "execution_count": 5,
   "id": "0f1a161a",
   "metadata": {
    "scrolled": false
   },
   "outputs": [
    {
     "name": "stdout",
     "output_type": "stream",
     "text": [
      "Inserisci un numero: 12\n",
      "Inserisci un numero: 12\n",
      "La sottrazione è 0\n"
     ]
    }
   ],
   "source": [
    "# Chiedo all'utente di inserire un numero e lo converto in un intero.\n",
    "numero1 = int(input(\"Inserisci un numero: \"))\n",
    "\n",
    "# Chiedo all'utente di inserire un altro numero e lo converto in un intero.\n",
    "numero2 = int(input(\"Inserisci un numero: \"))\n",
    "\n",
    "# Calcolo la sottrazione tra numero1 e numero2 e la assegno alla variabile \"sottrazione\".\n",
    "sottrazione = numero1 - numero2\n",
    "\n",
    "# Stampo il risultato della sottrazione.\n",
    "print(\"La sottrazione è\", sottrazione)\n"
   ]
  },
  {
   "cell_type": "markdown",
   "id": "20f9f053",
   "metadata": {},
   "source": [
    "#  loop e ripetizione"
   ]
  },
  {
   "cell_type": "code",
   "execution_count": 1,
   "id": "67854317",
   "metadata": {},
   "outputs": [
    {
     "name": "stdout",
     "output_type": "stream",
     "text": [
      "1\n",
      "2\n",
      "3\n",
      "4\n",
      "5\n",
      "6\n",
      "7\n",
      "8\n",
      "9\n",
      "10\n"
     ]
    }
   ],
   "source": [
    "for numero in range (1,10+1):\n",
    "     print(numero)"
   ]
  },
  {
   "cell_type": "markdown",
   "id": "4e96eca8",
   "metadata": {},
   "source": [
    "# altro"
   ]
  },
  {
   "cell_type": "code",
   "execution_count": 2,
   "id": "ce74ed06",
   "metadata": {},
   "outputs": [
    {
     "name": "stdout",
     "output_type": "stream",
     "text": [
      "inserisci loperazione (+, -,/:+\n",
      "iniserisci il primo numero:1\n",
      "inserisci il secondo numero:2\n",
      "il risultato è 3.0\n"
     ]
    }
   ],
   "source": [
    "# calcolatrice pyhton con decisioni\n",
    "\n",
    "operazione = input(\"inserisci loperazione (+, -,/:\")\n",
    "\n",
    "numero1 = float(input(\"iniserisci il primo numero:\" ))\n",
    "numero2 = float(input(\"inserisci il secondo numero:\"))\n",
    "\n",
    "\n",
    "if operazione == \"+\": \n",
    "    risultato = numero1 + numero2\n",
    "\n",
    "elif operazione == \"-\":\n",
    "    risultato = numero1 - numero2\n",
    "elif operazione == \"*\":\n",
    "    risultato = numero1 * numero2\n",
    "elif operazione == \"/\":\n",
    "    risultato = numero1 / numero2\n",
    "else:\n",
    "    risultato = \"operazione errata\"\n",
    "\n",
    "print (\"il risultato è\", risultato)"
   ]
  },
  {
   "cell_type": "code",
   "execution_count": 3,
   "id": "1a2523ac",
   "metadata": {},
   "outputs": [
    {
     "name": "stdout",
     "output_type": "stream",
     "text": [
      "inserisci un numero intero positivo :1\n",
      "la somma dei primi 1 numeri interi è 1\n"
     ]
    }
   ],
   "source": [
    "n = int (input (\"inserisci un numero intero positivo :\"))\n",
    "somma = 0\n",
    "\n",
    "for numero in range(1, n+1):\n",
    "    #somma = somma + numero\n",
    "    somma += numero \n",
    "    \n",
    "    print(\"la somma dei primi\", n, \"numeri interi è\", somma)"
   ]
  },
  {
   "cell_type": "markdown",
   "id": "8aaf4c4f",
   "metadata": {},
   "source": [
    "# calcolo positivo\n"
   ]
  },
  {
   "cell_type": "code",
   "execution_count": 4,
   "id": "ca76ad3e",
   "metadata": {},
   "outputs": [
    {
     "name": "stdout",
     "output_type": "stream",
     "text": [
      "inserisci un numero iintero positivo: 2\n",
      "quadrati dei primi 2 numeri: \n",
      " il quadrato di 1 è 1\n",
      " il quadrato di 2 è 4\n"
     ]
    }
   ],
   "source": [
    "n = int (input(\"inserisci un numero iintero positivo: \"))\n",
    "\n",
    "print(\"quadrati dei primi\", n, \"numeri: \" )\n",
    "\n",
    "for numero in range (1, n+1 ):\n",
    "    quadrato = numero ** 2 \n",
    "    print (\" il quadrato di\", numero, \"è\", quadrato)"
   ]
  },
  {
   "cell_type": "code",
   "execution_count": null,
   "id": "92d9d3db",
   "metadata": {},
   "outputs": [],
   "source": [
    "numero = int (input (\"inserisci un numero: \"))\n",
    "\n",
    "if numero % 2 == 0:\n",
    "    print (numero, \"è numero pari.\")\n",
    "\n",
    "else:\n",
    "    print(numero, \"è un numero dispari.\")"
   ]
  },
  {
   "cell_type": "markdown",
   "id": "3b68feab",
   "metadata": {},
   "source": [
    "# link siti"
   ]
  },
  {
   "cell_type": "code",
   "execution_count": 4,
   "id": "f1c9f74b",
   "metadata": {},
   "outputs": [
    {
     "name": "stdout",
     "output_type": "stream",
     "text": [
      "https://ciao.com\n"
     ]
    }
   ],
   "source": [
    "print (\"https://ciao.com\")"
   ]
  },
  {
   "cell_type": "markdown",
   "id": "564218b9",
   "metadata": {},
   "source": [
    "# calcolatrice forza fisica"
   ]
  },
  {
   "cell_type": "code",
   "execution_count": 9,
   "id": "b62fe4b6",
   "metadata": {},
   "outputs": [
    {
     "name": "stdout",
     "output_type": "stream",
     "text": [
      "inserisci l'operazione (f, a, m): f\n",
      "la forza è: 12\n",
      "l'accellerazione è: 1\n",
      "la massa è: 4\n",
      "il risultato è:  4.0\n"
     ]
    }
   ],
   "source": [
    "operazione=input(\"inserisci l'operazione (f, a, m): \")\n",
    "\n",
    "f=float(input(\"la forza è: \"))\n",
    "a=float(input(\"l'accellerazione è: \"))\n",
    "m=float(input(\"la massa è: \"))\n",
    "\n",
    "if operazione == \"f\":\n",
    "    risultato = a*m\n",
    "elif operazione == \"a\":\n",
    "    risultato = f/m\n",
    "elif operazione == \"m\":\n",
    "    risultato = f/a\n",
    "else:\n",
    "    risultato = \"operazione non valida\"\n",
    "\n",
    "print(\"il risultato è: \", risultato)"
   ]
  },
  {
   "cell_type": "markdown",
   "id": "bea9e60f",
   "metadata": {},
   "source": [
    "# calcolatrice numeri pari"
   ]
  },
  {
   "cell_type": "code",
   "execution_count": null,
   "id": "936e5f95",
   "metadata": {},
   "outputs": [],
   "source": [
    "numero = int(input (\"inserisci un numero\"))\n",
    "\n",
    "if numero % 2 == 0:\n",
    "    print (numero, \"è un numero pari.\")\n",
    "    \n",
    "else:\n",
    "     print (numero, \"è un numero dispari.\")"
   ]
  },
  {
   "cell_type": "markdown",
   "id": "49f9f9d8",
   "metadata": {},
   "source": [
    "# CALCOLO FATTORIALE"
   ]
  },
  {
   "cell_type": "code",
   "execution_count": 3,
   "id": "e91bc192",
   "metadata": {},
   "outputs": [
    {
     "name": "stdout",
     "output_type": "stream",
     "text": [
      "inserisci un numero intero positivo:1558\n",
      "il valore di 1558 è 2424858401169875856987549316530261243529336396354700842715749979460646110058233651782392648030625575890603295838549136086203631494904372698578181999057212055535785846413969420066573092861481554378165635499319577948946469878800693106187103360224139995239288292467274991657581799887960732860730465294056429604010675825650845592134295845654185424392132561718318353026455262912039002664120813132000602020151818744862796534620281615341820385425346251471878908201301227337883132211649086124629581129201309548248991126780745470297556208250525153383428851713805456555419758707284753260768805845944423382917543868035509410367649517977378961396490420583560768554085728596839435423979501005167390976056828737759722931049053051870481354220566751757226315251920734049093559363656820097662644345104685665152444697669009659982518091310671058073959926600845011866653850725006741331610135998770449096045426206531544154144601729043078225608136613193686346346764203375001081246967670378990121777385901921245133042374777487279240176076181929206652760242551593468206588418766183401939736514661022447416367789422605988204789848476655904174023752533626768590363300938231129606313365312387913130971900390208938471907315110717317435321123464794906710193916413838207147074458529525935478113361841325520841044346267628381902449941524896332350384902526765982148700924154884023605222691782597459599121027544229955922681404443327840648118042191399221650956164672857148227101451532445295161873221075926687151309815858723796054292521542311108190618276056103071140889723197707702368244847779594197140241112042128900654662720100758519336991189420021569389659862373674109453168227154296233208845394442627758282640964050502230911632608683569869755423400072413157317525410032842653580093887735517690412593258359388487289802270353135756659547954667344672901471048389223259683469006995762263469036620522300662493285722212048473141061111827211648276284983691538501299996459350066613212712170474963890532178735800245974574640904674554123815017979113627519922145830691096868313633320304359164703825903963661604335411773033078697699311892617463175229334854531701631075383899708905233041291527887059381689504636267968336033244928031019352467588242769652345533099117594059102256248189810284600657855707971881794779733938869280438373216606816889288287015049782284899585369920877745590840887712363661997881545433844629800189205229597440143179700162824702134957418586285920953284900382720017357876988767296282790084172114532622647998154080918863914038958583660595208167281479883677535909771428614756103440615905873310606657147769597200148222567970379939256596381142850272187439045199365546037482887333248526026065549397730475314476322168067523034600032867511743419691437003992038152628324659432676263448764134014429405489180634364519282138519962363193701386950109467042340571843977537752976341094127822030600936793871334872293490903117072170466054983434825167266916722980296391441044563178977701723309785609111259614474247364528550386532388327264689711775604664427340228901835597557029992960492192464058200400988909295153551200837397817601282679220611104173652358509007521101053095620748168997861050130023817703319787079095235833374426177514286578246903083415169109359323812741314724620593271262917265094024216337214863533448529254632599541703878619604512594846124252613960262726215219134672211844311020666195270036284140614857902974771290503656870984782590335117218368984797972576852801418834170795097602013208317371156612874344638041764532057542786831351076365498540443813006372421380736034740771076764178132559828434447544678633583005046265334346831012385703067191550416222980088761154519553974935287498676582754658553261232252765802371799256016444945115393409561160793126126735836975302341046431089640850574341354122545220831810806852068691732327187184240511538962440151159519314143893886850233861037997459199145386272154940965985357257552760909210073432064000000000000000000000000000000000000000000000000000000000000000000000000000000000000000000000000000000000000000000000000000000000000000000000000000000000000000000000000000000000000000000000000000000000000000000000000000000000000000000000000000000000000000000000000000000000000000000000000000000000000000000000000000000000000000000000000000000000000000000000000000000000000000000000000000\n"
     ]
    }
   ],
   "source": [
    " n = int (input (\"inserisci un numero intero positivo:\"))\n",
    "fattoriale = 1 \n",
    "\n",
    "for numero in range (1, n +1 ):\n",
    "    #fattoriale = fattoriale * numero\n",
    "    fattoriale *= numero \n",
    "print (\"il valore di\", n, \"è\", fattoriale )"
   ]
  },
  {
   "cell_type": "markdown",
   "id": "b4c0718d",
   "metadata": {},
   "source": [
    "#  CALCOLO MEDIA DI UNA LISTA DI NUMERI\n"
   ]
  },
  {
   "cell_type": "code",
   "execution_count": 20,
   "id": "124cd798",
   "metadata": {
    "scrolled": true
   },
   "outputs": [
    {
     "name": "stdout",
     "output_type": "stream",
     "text": [
      " quanti numeri vuoi inserire ?2\n",
      "inserisci un numero1\n",
      "inserisci un numero2\n",
      "la media dei numeri inseriti è: 1.5 la lista completa è: [1.0, 2.0]\n"
     ]
    }
   ],
   "source": [
    "# creazione lista\n",
    "numeri = []\n",
    "# n = umeri da inserire\n",
    "n = int (input (\" quanti numeri vuoi inserire ?\"))\n",
    "# ciclo for utilizato per ristuzioni ripetuta la \"i\" è un contatore, variabile provvisoria \n",
    "for i in range(n):\n",
    "    numero = float(input(\"inserisci un numero\"))\n",
    "    numeri.append(numero)\n",
    "    #Len = lungezza lista  sum = somma (sum summing )\n",
    "media =  sum(numeri) / len(numeri)\n",
    "\n",
    "print(\"la media dei numeri inseriti è:\", media, \"la lista completa è:\", numeri )"
   ]
  },
  {
   "cell_type": "markdown",
   "id": "b69d32f2",
   "metadata": {},
   "source": [
    "# gioco indovinello"
   ]
  },
  {
   "cell_type": "code",
   "execution_count": 11,
   "id": "bfd12aac",
   "metadata": {},
   "outputs": [
    {
     "name": "stdout",
     "output_type": "stream",
     "text": [
      "indovina il numero (1-100): 4\n",
      "il numero da indovinare è più grande.\n",
      "indovina il numero (1-100): 56\n",
      "il numero da indovinare è più piccolo.\n",
      "indovina il numero (1-100): 45\n",
      "il numero da indovinare è più piccolo.\n",
      "indovina il numero (1-100): 34\n",
      "il numero da indovinare è più grande.\n",
      "indovina il numero (1-100): 35\n",
      "il numero da indovinare è più grande.\n",
      "indovina il numero (1-100): 36\n",
      "il numero da indovinare è più grande.\n",
      "indovina il numero (1-100): 37\n",
      "il numero da indovinare è più grande.\n",
      "indovina il numero (1-100): 38\n",
      "il numero da indovinare è più grande.\n",
      "indovina il numero (1-100): 39\n",
      "Bravo! Hai indovinato il numero 39 in 9 tentativi.\n"
     ]
    }
   ],
   "source": [
    "import random\n",
    "\n",
    "numero_da_indovinare=random.randint(1, 100) #random int = intero random\n",
    "tentativi=0\n",
    "\n",
    "while True:\n",
    "    tentativo=int(input(\"indovina il numero (1-100): \"))\n",
    "    tentativi+=1\n",
    "\n",
    "    if tentativo==numero_da_indovinare:\n",
    "        print(\"Bravo! Hai indovinato il numero\", numero_da_indovinare, \"in\", tentativi, \"tentativi.\")\n",
    "        break #interrompe il while\n",
    "    elif tentativo<numero_da_indovinare:\n",
    "        print(\"il numero da indovinare è più grande.\")\n",
    "    else:\n",
    "        print(\"il numero da indovinare è più piccolo.\")"
   ]
  },
  {
   "cell_type": "markdown",
   "id": "1b954889",
   "metadata": {},
   "source": [
    "# MORRA CINESE"
   ]
  },
  {
   "cell_type": "code",
   "execution_count": 6,
   "id": "45298fda",
   "metadata": {},
   "outputs": [
    {
     "name": "stdout",
     "output_type": "stream",
     "text": [
      "carta forbice sasso! carta\n",
      "io ho scelto sasso\n",
      "hai vinto questa volta ma non vincerai di nuovo\n"
     ]
    }
   ],
   "source": [
    "import random\n",
    "c_f_s=[\"carta\", \"forbice\", \"sasso\"]\n",
    "scelta_computer=random.choice(c_f_s)\n",
    "\n",
    "scelta_del_giocatore=input(\"carta forbice sasso! \")\n",
    "while scelta_del_giocatore!=\"carta\" and scelta_del_giocatore!=\"forbice\" and scelta_del_giocatore!=\"sasso\":\n",
    "    print(\"stiamo giocando a carta forbice sasso non a\", scelta_del_giocatore, \"melone Giuseppe\")\n",
    "    scelta_del_giocatore=input(\"carta forbice sasso! \")\n",
    "\n",
    "print(\"io ho scelto\", scelta_computer)\n",
    "\n",
    "if scelta_computer==\"carta\" and scelta_del_giocatore==\"forbice\":\n",
    "    print(\"hai vinto questa volta ma non vincerai di nuovo\")\n",
    "elif scelta_computer==\"forbice\" and scelta_del_giocatore==\"carta\":\n",
    "    print(\"ha ha sapevo che avresti perso\")\n",
    "elif scelta_computer==\"forbice\" and scelta_del_giocatore==\"sasso\":\n",
    "    print(\"hai vinto questa volta ma non vincerai di nuovo\")\n",
    "elif scelta_computer==\"sasso\" and scelta_del_giocatore==\"forbice\":\n",
    "    print(\"ha ha sapevo che avresti perso\")\n",
    "elif scelta_computer==\"sasso\" and scelta_del_giocatore==\"carta\":\n",
    "    print(\"hai vinto questa volta ma non vincerai di nuovo\")\n",
    "elif scelta_computer==\"carta\" and scelta_del_giocatore==\"sasso\":\n",
    "    print(\"ha ha sapevo che avresti perso\")\n",
    "else:\n",
    "    print(\"è stato un pareggio che non si ripeterà più poiche io sono migliore di te\")"
   ]
  },
  {
   "cell_type": "markdown",
   "id": "1ed99ea6",
   "metadata": {},
   "source": [
    "# bmi\n"
   ]
  },
  {
   "cell_type": "code",
   "execution_count": 1,
   "id": "bc58c8e8",
   "metadata": {},
   "outputs": [
    {
     "name": "stdout",
     "output_type": "stream",
     "text": [
      "Inserisci il tuo peso in kg: 40\n",
      "Inserisci la tua altezza in metri: 1.80\n",
      "Il tuo BMI è: 12.35\n",
      "sei sottopeso\n"
     ]
    }
   ],
   "source": [
    "def calcola_bmi(peso, altezza):\n",
    "    bmi =  peso / (altezza ** 2)\n",
    "                  \n",
    "    return bmi\n",
    "\n",
    "peso = float(input(\"Inserisci il tuo peso in kg: \"))\n",
    "altezza = float(input(\"Inserisci la tua altezza in metri: \"))\n",
    "\n",
    "bmi = calcola_bmi(peso, altezza)\n",
    "print(\"Il tuo BMI è:\", round (bmi, 2) )    #serve per arrotondare in questo caso per le 2 cifre\n",
    "\n",
    "if bmi <= 24.9:\n",
    "    print (\"sei sottopeso\")\n",
    "    \n",
    "elif bmi > 24.9 and bmi < 30:\n",
    "    print (\"sei normopeso\")\n",
    "    \n",
    "elif bmi >= 30:\n",
    "    print (\"sei obeso\")\n",
    "   "
   ]
  },
  {
   "cell_type": "markdown",
   "id": "0db27761",
   "metadata": {},
   "source": [
    "# roulette russsa"
   ]
  },
  {
   "cell_type": "code",
   "execution_count": 11,
   "id": "c58d068c",
   "metadata": {},
   "outputs": [
    {
     "name": "stdout",
     "output_type": "stream",
     "text": [
      "scegli un numero da 1 a 6: 5\n",
      "Bang! mission failed\n",
      "il tuo punteggio è 0\n"
     ]
    }
   ],
   "source": [
    "import random\n",
    "P=random.randint(1, 6)\n",
    "\n",
    "contatore=0\n",
    "\n",
    "scelta_del_giocatore=int(input(\"scegli un numero da 1 a 6: \"))\n",
    "if scelta_del_giocatore<1 or scelta_del_giocatore>6:\n",
    "    print(\"scelta errata\")\n",
    "else:\n",
    "    while scelta_del_giocatore!=P and contatore <5:\n",
    "        contatore+=1\n",
    "        P=random.randint(1, 6)\n",
    "        print(\"non succede niente\")\n",
    "    else:\n",
    "        print(\"Bang! mission failed\")\n",
    "        print(\"il tuo punteggio è\", contatore)"
   ]
  },
  {
   "cell_type": "code",
   "execution_count": 3,
   "id": "a26d5f37",
   "metadata": {},
   "outputs": [
    {
     "name": "stdout",
     "output_type": "stream",
     "text": [
      "scegli un numero 23 \n",
      "il risultato è 11.5\n"
     ]
    }
   ],
   "source": [
    "numero =int(input(\"scegli un numero\"))\n",
    "risultato = numero / 2\n",
    "\n",
    "print(\"il risultato è\", round (risultato, 2) )\n",
    "\n",
    "    "
   ]
  },
  {
   "cell_type": "code",
   "execution_count": 13,
   "id": "72debae8",
   "metadata": {},
   "outputs": [
    {
     "name": "stdout",
     "output_type": "stream",
     "text": [
      "inserisci loperazione (+, -,/:+\n",
      "inserisci il primo numero:2\n",
      "inserisci il secondo numero:3\n",
      "il risultato è 5.0\n"
     ]
    }
   ],
   "source": [
    "operazione = input(\"inserisci loperazione (+, -,/:\")\n",
    "numero1 = float(input(\"inserisci il primo numero:\"))\n",
    "numero2 = float(input(\"inserisci il secondo numero:\"))\n",
    "\n",
    "\n",
    "scelta_numero = str\n",
    "scelta_numero = numero1\n",
    "\n",
    "\n",
    "\n",
    "if operazione == \"+\": \n",
    "    risultato = scelta_numero + numero2\n",
    "\n",
    "elif operazione == \"-\":\n",
    "    risultato = scelta_numero - numero2\n",
    "elif operazione == \"*\":\n",
    "    risultato = scelta_numero * numero2\n",
    "elif operazione == \"/\":\n",
    "    risultato = scelta_numero / numero2\n",
    "else:\n",
    "    risultato = \"operazione errata\"\n",
    "\n",
    "print (\"il risultato è\", risultato)"
   ]
  },
  {
   "cell_type": "markdown",
   "id": "15e3cdff",
   "metadata": {},
   "source": [
    "# FUNZIONI CUSTOM "
   ]
  },
  {
   "cell_type": "code",
   "execution_count": 14,
   "id": "3e32afe8",
   "metadata": {},
   "outputs": [],
   "source": [
    "\n",
    "#def = definisce\n",
    "def fibonacci(n): #n sempre la solita \"variante\"\n",
    "    fib_series = [0, 1]\n",
    "    \n",
    "    while len(fib_series) < n:\n",
    "        fib_series.append(fib_series[-1] + fib_series[-2])\n",
    "        \n",
    "    return fib_series"
   ]
  },
  {
   "cell_type": "code",
   "execution_count": 10,
   "id": "87bc2f20",
   "metadata": {},
   "outputs": [
    {
     "data": {
      "text/plain": [
       "[0, 1, 1, 2, 3, 5, 8, 13, 21, 34]"
      ]
     },
     "execution_count": 10,
     "metadata": {},
     "output_type": "execute_result"
    }
   ],
   "source": [
    "fibonacci(10)"
   ]
  },
  {
   "cell_type": "code",
   "execution_count": 13,
   "id": "4517455f",
   "metadata": {},
   "outputs": [
    {
     "name": "stdout",
     "output_type": "stream",
     "text": [
      "inserisci il numero di termini della serie di fibonaccci da generare: 12\n",
      "[0, 1, 1, 2, 3, 5, 8, 13, 21, 34, 55, 89]\n"
     ]
    }
   ],
   "source": [
    "n = int(input(\"inserisci il numero di termini della serie di fibonaccci da generare: \"))\n",
    "if n <= 0:\n",
    "    print(\"inserisci un numero positivo.\")\n",
    "else: \n",
    "    result = fibonacci(n) #result =  output (riceve input e output )\n",
    "    print (result)\n"
   ]
  },
  {
   "cell_type": "code",
   "execution_count": 7,
   "id": "068cf18f",
   "metadata": {},
   "outputs": [],
   "source": [
    "import math\n",
    "\n",
    "def calcola_area_cerchio(raggio):\n",
    "    return math.pi * (raggio ** 2)\n",
    "    \n",
    "def calcola_area_rettangolo(base,altezza):\n",
    "    return base * altezza\n",
    "\n",
    "def calcola_area_triangolo (base, altezza):\n",
    "    return (base * altezza) / 2"
   ]
  },
  {
   "cell_type": "code",
   "execution_count": 8,
   "id": "3f184522",
   "metadata": {},
   "outputs": [
    {
     "data": {
      "text/plain": [
       "314.1592653589793"
      ]
     },
     "execution_count": 8,
     "metadata": {},
     "output_type": "execute_result"
    }
   ],
   "source": [
    "calcola_area_cerchio(10)\n"
   ]
  },
  {
   "cell_type": "markdown",
   "id": "ae5f3edf",
   "metadata": {},
   "source": [
    "# CALCOLATRICE DI AREE"
   ]
  },
  {
   "cell_type": "code",
   "execution_count": 19,
   "id": "4eeccdcf",
   "metadata": {},
   "outputs": [
    {
     "name": "stdout",
     "output_type": "stream",
     "text": [
      "Benvenuto nella calcolatrice di Aree!\n",
      "Vuoi calcolare l'area di un cerchio (c), rettangolo (r) o triangolo (t)? t\n",
      "Inserisci la base del triangolo: 12\n",
      "Inserisci l'altezza del triangolo: 43\n",
      "L'area del triangolo è 258.00\n"
     ]
    }
   ],
   "source": [
    "print(\"Benvenuto nella calcolatrice di Aree!\")\n",
    "\n",
    "# Definizione delle funzioni per calcolare le aree\n",
    "def calcola_area_cerchio(raggio):\n",
    "    return 3.14159 * raggio * raggio\n",
    "\n",
    "def calcola_area_rettangolo(base, altezza):\n",
    "    return base * altezza\n",
    "\n",
    "def calcola_area_triangolo(base, altezza):\n",
    "    return 0.5 * base * altezza\n",
    "\n",
    "scelta = input(\"Vuoi calcolare l'area di un cerchio (c), rettangolo (r) o triangolo (t)? \")\n",
    "\n",
    "if scelta == 'c':\n",
    "    raggio = float(input(\"Inserisci il raggio del cerchio: \"))        #float serve per far scrivere i numeri con la virgola\n",
    "    area = calcola_area_cerchio(raggio)\n",
    "    print(f\"L'area del cerchio è {area:.2f}\") #f string serve per mettere le variabili fra {} senza virgola\n",
    "elif scelta == 'r':\n",
    "    base = float(input(\"Inserisci la base del rettangolo: \"))\n",
    "    altezza = float(input(\"Inserisci l'altezza del rettangolo: \"))\n",
    "    area = calcola_area_rettangolo(base, altezza)\n",
    "    print(f\"L'area del rettangolo è {area:.2f}\")\n",
    "elif scelta == 't':\n",
    "    base = float(input(\"Inserisci la base del triangolo: \"))\n",
    "    altezza = float(input(\"Inserisci l'altezza del triangolo: \"))\n",
    "    area = calcola_area_triangolo(base, altezza)\n",
    "    print(f\"L'area del triangolo è {area:.2f}\")\n",
    "else:\n",
    "    print(\"Scelta non valida. Si prega di inserire 'c', 'r' o 't'.\")\n"
   ]
  },
  {
   "cell_type": "code",
   "execution_count": 16,
   "id": "8ff56409",
   "metadata": {},
   "outputs": [
    {
     "name": "stdout",
     "output_type": "stream",
     "text": [
      "benvenuto nel calcolatore di interessi! \n",
      "inserisci l'importo iniziale: 2\n",
      "inserisci il tasso di interesse annuale (%): 2\n",
      "inserisci il periodo di investimento (anni): 2\n",
      "l'importo finale dopo 2.0 anni è di 2.08 euro.\n"
     ]
    }
   ],
   "source": [
    "def calcola_interessi(importo, tasso, periodo):\n",
    "    return importo * ((1 + (tasso / 100)) ** periodo)\n",
    "\n",
    "\n",
    "\n",
    "print (\"benvenuto nel calcolatore di interessi! \")\n",
    "\n",
    "importo = float(input(\"inserisci l'importo iniziale: \"))\n",
    "tasso = float(input(\"inserisci il tasso di interesse annuale (%): \"))\n",
    "periodo = float(input(\"inserisci il periodo di investimento (anni): \"))\n",
    "\n",
    "importo_finale = calcola_interessi(importo, tasso, periodo)\n",
    "\n",
    "print(f\"l'importo finale dopo {periodo} anni è di {importo_finale:.2f} euro.\")"
   ]
  },
  {
   "cell_type": "code",
   "execution_count": 17,
   "id": "00f9fcf0",
   "metadata": {},
   "outputs": [
    {
     "data": {
      "text/plain": [
       "14802.442849183444"
      ]
     },
     "execution_count": 17,
     "metadata": {},
     "output_type": "execute_result"
    }
   ],
   "source": [
    "calcola_interessi(10000,4,10)"
   ]
  },
  {
   "cell_type": "markdown",
   "id": "96a99895",
   "metadata": {},
   "source": [
    "# massa lunare"
   ]
  },
  {
   "cell_type": "code",
   "execution_count": 2,
   "id": "2a7dfb2a",
   "metadata": {},
   "outputs": [
    {
     "name": "stdout",
     "output_type": "stream",
     "text": [
      "forza gravitazionale fra terra e luna:{luna} newton\n"
     ]
    }
   ],
   "source": [
    "def forza_gravitazionale(m1, m2, r):\n",
    "    G = 6.674-11 \n",
    "    F = (G * m1 *m2 ) / (r ** 2)\n",
    "    return F\n",
    "\n",
    "massa_terra = 5\n",
    "massa_luna  = 7\n",
    "distanza_terra_luna = 3400000000 #metri\n",
    "\n",
    "forza = forza_gravitazionale(massa_terra, massa_luna, distanza_terra_luna)\n",
    "print(\"forza gravitazionale fra terra e luna:{luna} newton\") "
   ]
  },
  {
   "cell_type": "markdown",
   "id": "ac3b69e1",
   "metadata": {},
   "source": [
    "# anagrammi"
   ]
  },
  {
   "cell_type": "code",
   "execution_count": 1,
   "id": "81f3dee4",
   "metadata": {},
   "outputs": [
    {
     "name": "stdout",
     "output_type": "stream",
     "text": [
      "Benvenuto nel Risolutore di Anagrammi!\n",
      "Inserisci una parola: gatto\n",
      "otgta\n",
      "ttoag\n",
      "tgtao\n",
      "goatt\n",
      "aogtt\n",
      "ogtta\n",
      "aotgt\n",
      "totag\n",
      "oattg\n",
      "tgoat\n",
      "atgot\n",
      "tatog\n",
      "toagt\n",
      "otatg\n",
      "gtoat\n",
      "togta\n",
      "tagto\n",
      "ottga\n",
      "otgat\n",
      "ttgao\n",
      "aottg\n",
      "tgaot\n",
      "agott\n",
      "gaott\n",
      "tagot\n",
      "tgota\n",
      "tgato\n",
      "atgto\n",
      "gtato\n",
      "toatg\n",
      "atotg\n",
      "gotta\n",
      "gttoa\n",
      "atogt\n",
      "ttago\n",
      "gatot\n",
      "tgtoa\n",
      "attog\n",
      "gtaot\n",
      "tatgo\n",
      "taogt\n",
      "togat\n",
      "totga\n",
      "ogtat\n",
      "oatgt\n",
      "ottag\n",
      "agtot\n",
      "ogatt\n",
      "gtota\n",
      "gttao\n",
      "oagtt\n",
      "taotg\n",
      "ttgoa\n",
      "attgo\n",
      "ttaog\n",
      "gotat\n",
      "agtto\n",
      "ttoga\n",
      "otagt\n",
      "Gli anagrammi unici di 'gatto' sono in totale: 59\n"
     ]
    }
   ],
   "source": [
    "from itertools import permutations\n",
    "\n",
    "def trova_anagrammi(parola):\n",
    "    return set([''.join(p) for p in permutations(parola)])\n",
    "\n",
    "print(\"Benvenuto nel Risolutore di Anagrammi!\")\n",
    "\n",
    "parola_input = input(\"Inserisci una parola: \").strip().lower()  # strip spazi bianchi lower in minuscolo\n",
    "\n",
    "if len(parola_input) < 2:\n",
    "    print(\"Inserisci una parola con almeno 2 caratteri.\")\n",
    "else:\n",
    "    anagrammi = trova_anagrammi(parola_input)\n",
    "    k = 0 \n",
    "\n",
    "    for elemento in anagrammi:\n",
    "        if elemento != parola_input:\n",
    "            k += 1\n",
    "            print(elemento)\n",
    "\n",
    "    print(f\"Gli anagrammi unici di '{parola_input}' sono in totale: {k}\")"
   ]
  },
  {
   "cell_type": "markdown",
   "id": "9025b45c",
   "metadata": {},
   "source": [
    "# CAMBIO VALUTA"
   ]
  },
  {
   "cell_type": "code",
   "execution_count": 4,
   "id": "dc75eac4",
   "metadata": {
    "scrolled": false
   },
   "outputs": [
    {
     "name": "stdout",
     "output_type": "stream",
     "text": [
      "inserisci l'importo da convertire: 1900\n",
      "inserisci la valuta di partenza: yen\n",
      "inserisci la valuta di destinazione: 1000\n",
      "valute non supportate. assicurati di inserire valute valide.\n"
     ]
    }
   ],
   "source": [
    "#definizione dei tassi di cambio\n",
    "\n",
    "tassi_di_cambio={\n",
    "    \"dollari\": 1.0,\n",
    "    \"euro\": 0.85,\n",
    "    \"yen\": 110.41,\n",
    "    #aggiungi altre valute e tassi di cambio se necessario\n",
    "}\n",
    "\n",
    "#chiedi all'utente di inserire l'importo, la valuta di partenza e la valuta di destinazione\n",
    "importo=float(input(\"inserisci l'importo da convertire: \"))\n",
    "valuta_di_partenza=input(\"inserisci la valuta di partenza: \").lower()\n",
    "valuta_di_destinazione=input(\"inserisci la valuta di destinazione: \").lower()\n",
    "\n",
    "#verifica se le valute sono nel dizionario dei tassi di cambio\n",
    "if valuta_di_partenza in tassi_di_cambio and valuta_di_destinazione in tassi_di_cambio:\n",
    "    #calcola il tasso di cambio e l'importo invertito\n",
    "    tasso_di_cambio=tassi_di_cambio[valuta_di_destinazione]/tassi_di_cambio[valuta_di_partenza]\n",
    "    importo_convertito=importo*tasso_di_cambio\n",
    "\n",
    "    #stampa il risultato\n",
    "    print(f\"{importo} {valuta_di_partenza} sono equivalenti a {importo_convertito: .2f} {valuta_di_destinazione}\")\n",
    "else:\n",
    "    print(\"valute non supportate. assicurati di inserire valute valide.\")"
   ]
  },
  {
   "cell_type": "code",
   "execution_count": null,
   "id": "6434eeb3",
   "metadata": {},
   "outputs": [
    {
     "name": "stdout",
     "output_type": "stream",
     "text": [
      "Menu:\n",
      "\n",
      "1. Aggiungi cibo consumato\n",
      "2. Calcola calorie totali\n",
      "3. Esci\n",
      "Scegli un'opzione: 1\n",
      "\n",
      "Cibi disponibili:\n",
      "pizza 256\n",
      "hamburger 250\n",
      "yogurt 150\n",
      "Inserisci il cibo consumato: yogurt\n",
      "Inserisci la quantità (in grammi): 140\n",
      "Menu:\n",
      "\n",
      "1. Aggiungi cibo consumato\n",
      "2. Calcola calorie totali\n",
      "3. Esci\n",
      "Scegli un'opzione: 1\n",
      "\n",
      "Cibi disponibili:\n",
      "pizza 256\n",
      "hamburger 250\n",
      "yogurt 150\n",
      "Inserisci il cibo consumato: pizza\n",
      "Inserisci la quantità (in grammi): 200\n",
      "Menu:\n",
      "\n",
      "1. Aggiungi cibo consumato\n",
      "2. Calcola calorie totali\n",
      "3. Esci\n",
      "Scegli un'opzione: 2\n",
      "\n",
      "Calorie totali consumate: 722.0 calorie\n",
      "Menu:\n",
      "\n",
      "1. Aggiungi cibo consumato\n",
      "2. Calcola calorie totali\n",
      "3. Esci\n"
     ]
    }
   ],
   "source": [
    "# Dizionario per il cibo\n",
    "cibo_calorie = {\n",
    "    \"pizza\": 256,\n",
    "    \"hamburger\": 250,\n",
    "    \"yogurt\": 150,\n",
    "}\n",
    "\n",
    "def calorie_consumate(cibo, quantita): #funzione\n",
    "    if cibo not in cibo_calorie:\n",
    "        print(\"Cibo non presente\")\n",
    "    else:\n",
    "        calorie_per_100g = cibo_calorie[cibo]\n",
    "        calorie_totali = (calorie_per_100g / 100) * quantita\n",
    "        return calorie_totali\n",
    "\n",
    "def main():\n",
    "    cibo_consumato = []\n",
    "    \n",
    "    while True:\n",
    "        print(\"Menu:\")\n",
    "        print(\"\\n1. Aggiungi cibo consumato\")\n",
    "        print(\"2. Calcola calorie totali\")\n",
    "        print(\"3. Esci\")\n",
    "        \n",
    "        scelta = input(\"Scegli un'opzione: \")\n",
    "        \n",
    "        if scelta == \"1\":\n",
    "            print(\"\\nCibi disponibili:\")\n",
    "            \n",
    "            for key, value in cibo_calorie.items():\n",
    "                print(key, value)\n",
    "                \n",
    "            cibo = input(\"Inserisci il cibo consumato: \").lower()\n",
    "            quantita = float(input(\"Inserisci la quantità (in grammi): \"))\n",
    "            cibo_consumato.append((cibo, quantita))\n",
    "        elif scelta == \"2\":\n",
    "            calorie_totali = sum(calorie_consumate(c, q) for c, q in cibo_consumato)\n",
    "            print(f\"\\nCalorie totali consumate: {calorie_totali} calorie\")\n",
    "        elif scelta == \"3\":\n",
    "            break\n",
    "        else:\n",
    "            print(\"\\nScelta non valida, riprova.\")\n",
    "            \n",
    "if __name__ == \"__main__\":\n",
    "    main()\n"
   ]
  },
  {
   "cell_type": "markdown",
   "id": "d4298a92",
   "metadata": {},
   "source": [
    "# personaggi random con storie random"
   ]
  },
  {
   "cell_type": "code",
   "execution_count": 18,
   "id": "1e13f0db",
   "metadata": {},
   "outputs": [
    {
     "name": "stdout",
     "output_type": "stream",
     "text": [
      "Personaggio fantasy generato: \n",
      "Inserisci il nome del personaggio: tommaso\n",
      "Nome: tommaso\n",
      "Aspetto fisico: Basso\n",
      "Aspetto personale: Arrogante\n",
      "Sfondo: Mago\n",
      "Motivazione: Potere\n"
     ]
    }
   ],
   "source": [
    "import random\n",
    "\n",
    "physical_traits=[\"Capelli neri\", \"Capelli biondi\", \"Occhi azzurri\", \"Alto\", \"Basso\", \"Barba lunga\"]\n",
    "personality_traits=[\"Gentile\", \"Arrogante\", \"Timido\", \"Audace\", \"Curioso\"]\n",
    "backgrounds=[\"Contadino\", \"Nobile\", \"Guerriero\", \"Mercante\", \"Mago\"]\n",
    "motivations=[\"Vendetta\", \"Ricchezza\", \"Potere\", \"Amore\", \"Scoperta\"]\n",
    "\n",
    "def genera_personaggio():\n",
    "    nome=input(\"Inserisci il nome del personaggio: \")\n",
    "    aspetto_fisico=random.choice(physical_traits)\n",
    "    aspetto_personale=random.choice(personality_traits)\n",
    "    sfondo=random.choice(backgrounds)\n",
    "    motivazione=random.choice(motivations)\n",
    "\n",
    "    descrizione=(\n",
    "        f\"Nome: {nome}\\n\"\n",
    "        f\"Aspetto fisico: {aspetto_fisico}\\n\"\n",
    "        f\"Aspetto personale: {aspetto_personale}\\n\"\n",
    "        f\"Sfondo: {sfondo}\\n\"\n",
    "        f\"Motivazione: {motivazione}\"\n",
    "    )\n",
    "    return descrizione\n",
    "print(\"Personaggio fantasy generato: \")\n",
    "print(genera_personaggio())"
   ]
  },
  {
   "cell_type": "markdown",
   "id": "cdced317",
   "metadata": {},
   "source": [
    "# tasso mortalià"
   ]
  },
  {
   "cell_type": "code",
   "execution_count": null,
   "id": "21de70a5",
   "metadata": {},
   "outputs": [],
   "source": []
  }
 ],
 "metadata": {
  "kernelspec": {
   "display_name": "Python 3 (ipykernel)",
   "language": "python",
   "name": "python3"
  },
  "language_info": {
   "codemirror_mode": {
    "name": "ipython",
    "version": 3
   },
   "file_extension": ".py",
   "mimetype": "text/x-python",
   "name": "python",
   "nbconvert_exporter": "python",
   "pygments_lexer": "ipython3",
   "version": "3.11.4"
  }
 },
 "nbformat": 4,
 "nbformat_minor": 5
}
